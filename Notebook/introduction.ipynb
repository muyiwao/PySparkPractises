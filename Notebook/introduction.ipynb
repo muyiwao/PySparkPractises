{
  "nbformat": 4,
  "nbformat_minor": 0,
  "metadata": {
    "colab": {
      "provenance": []
    },
    "kernelspec": {
      "name": "python3",
      "display_name": "Python 3"
    },
    "language_info": {
      "name": "python"
    }
  },
  "cells": [
    {
      "cell_type": "code",
      "execution_count": 1,
      "metadata": {
        "colab": {
          "base_uri": "https://localhost:8080/"
        },
        "id": "0rnKMcvSh4N3",
        "outputId": "2470a962-904d-4229-be2d-b5c96915f52e"
      },
      "outputs": [
        {
          "output_type": "stream",
          "name": "stdout",
          "text": [
            "Looking in indexes: https://pypi.org/simple, https://us-python.pkg.dev/colab-wheels/public/simple/\n",
            "Collecting pyspark\n",
            "  Downloading pyspark-3.3.1.tar.gz (281.4 MB)\n",
            "\u001b[K     |████████████████████████████████| 281.4 MB 38 kB/s \n",
            "\u001b[?25hCollecting py4j==0.10.9.5\n",
            "  Downloading py4j-0.10.9.5-py2.py3-none-any.whl (199 kB)\n",
            "\u001b[K     |████████████████████████████████| 199 kB 44.6 MB/s \n",
            "\u001b[?25hBuilding wheels for collected packages: pyspark\n",
            "  Building wheel for pyspark (setup.py) ... \u001b[?25l\u001b[?25hdone\n",
            "  Created wheel for pyspark: filename=pyspark-3.3.1-py2.py3-none-any.whl size=281845512 sha256=9ba28b2d66605150cfd4f12d4edcbebc9e7f309bd319ce21fd397fa50370509c\n",
            "  Stored in directory: /root/.cache/pip/wheels/42/59/f5/79a5bf931714dcd201b26025347785f087370a10a3329a899c\n",
            "Successfully built pyspark\n",
            "Installing collected packages: py4j, pyspark\n",
            "Successfully installed py4j-0.10.9.5 pyspark-3.3.1\n"
          ]
        }
      ],
      "source": [
        "pip install pyspark"
      ]
    },
    {
      "cell_type": "code",
      "source": [
        "pip install pyspark\n"
      ],
      "metadata": {
        "id": "41PQXb9ViyGt",
        "colab": {
          "base_uri": "https://localhost:8080/"
        },
        "outputId": "50d77cfb-dc4f-4715-c36c-c59d1f7e47ab"
      },
      "execution_count": 2,
      "outputs": [
        {
          "output_type": "stream",
          "name": "stdout",
          "text": [
            "Looking in indexes: https://pypi.org/simple, https://us-python.pkg.dev/colab-wheels/public/simple/\n",
            "Requirement already satisfied: pyspark in /usr/local/lib/python3.7/dist-packages (3.3.1)\n",
            "Requirement already satisfied: py4j==0.10.9.5 in /usr/local/lib/python3.7/dist-packages (from pyspark) (0.10.9.5)\n"
          ]
        }
      ]
    },
    {
      "cell_type": "code",
      "source": [
        "from pyspark import SparkConf"
      ],
      "metadata": {
        "id": "uCC9I5nGjek8"
      },
      "execution_count": 3,
      "outputs": []
    },
    {
      "cell_type": "code",
      "source": [
        "from pyspark.context import SparkContext\n",
        "conf = SparkConf().setAppName('Pyspark').setMaster('local')\n",
        "sc = SparkContext(conf=conf)"
      ],
      "metadata": {
        "id": "u7iOdpETjr9Y"
      },
      "execution_count": 4,
      "outputs": []
    },
    {
      "cell_type": "markdown",
      "source": [
        "sample"
      ],
      "metadata": {
        "id": "reCVfVjxMEK9"
      }
    },
    {
      "cell_type": "code",
      "source": [
        "values = [1,2,3,4,5]\n",
        "rdd = sc.parallelize(values)"
      ],
      "metadata": {
        "id": "OZur2aoakuu7"
      },
      "execution_count": 5,
      "outputs": []
    },
    {
      "cell_type": "code",
      "source": [
        "rdd.take(5)"
      ],
      "metadata": {
        "colab": {
          "base_uri": "https://localhost:8080/"
        },
        "id": "-zo5hAM1lGXa",
        "outputId": "a93349ef-ae11-4ced-b96e-77c886ebeeb5"
      },
      "execution_count": 6,
      "outputs": [
        {
          "output_type": "execute_result",
          "data": {
            "text/plain": [
              "[1, 2, 3, 4, 5]"
            ]
          },
          "metadata": {},
          "execution_count": 6
        }
      ]
    },
    {
      "cell_type": "code",
      "source": [
        "from google.colab import files\n",
        "uploaded = files.upload()"
      ],
      "metadata": {
        "colab": {
          "base_uri": "https://localhost:8080/",
          "height": 73
        },
        "id": "yVua5Ic9mKAl",
        "outputId": "b9a4cb8b-99cb-4ded-f6b8-bd3dc6483676"
      },
      "execution_count": 7,
      "outputs": [
        {
          "output_type": "display_data",
          "data": {
            "text/plain": [
              "<IPython.core.display.HTML object>"
            ],
            "text/html": [
              "\n",
              "     <input type=\"file\" id=\"files-3f6d76ae-20ad-4df3-ab5e-376e92d058db\" name=\"files[]\" multiple disabled\n",
              "        style=\"border:none\" />\n",
              "     <output id=\"result-3f6d76ae-20ad-4df3-ab5e-376e92d058db\">\n",
              "      Upload widget is only available when the cell has been executed in the\n",
              "      current browser session. Please rerun this cell to enable.\n",
              "      </output>\n",
              "      <script>// Copyright 2017 Google LLC\n",
              "//\n",
              "// Licensed under the Apache License, Version 2.0 (the \"License\");\n",
              "// you may not use this file except in compliance with the License.\n",
              "// You may obtain a copy of the License at\n",
              "//\n",
              "//      http://www.apache.org/licenses/LICENSE-2.0\n",
              "//\n",
              "// Unless required by applicable law or agreed to in writing, software\n",
              "// distributed under the License is distributed on an \"AS IS\" BASIS,\n",
              "// WITHOUT WARRANTIES OR CONDITIONS OF ANY KIND, either express or implied.\n",
              "// See the License for the specific language governing permissions and\n",
              "// limitations under the License.\n",
              "\n",
              "/**\n",
              " * @fileoverview Helpers for google.colab Python module.\n",
              " */\n",
              "(function(scope) {\n",
              "function span(text, styleAttributes = {}) {\n",
              "  const element = document.createElement('span');\n",
              "  element.textContent = text;\n",
              "  for (const key of Object.keys(styleAttributes)) {\n",
              "    element.style[key] = styleAttributes[key];\n",
              "  }\n",
              "  return element;\n",
              "}\n",
              "\n",
              "// Max number of bytes which will be uploaded at a time.\n",
              "const MAX_PAYLOAD_SIZE = 100 * 1024;\n",
              "\n",
              "function _uploadFiles(inputId, outputId) {\n",
              "  const steps = uploadFilesStep(inputId, outputId);\n",
              "  const outputElement = document.getElementById(outputId);\n",
              "  // Cache steps on the outputElement to make it available for the next call\n",
              "  // to uploadFilesContinue from Python.\n",
              "  outputElement.steps = steps;\n",
              "\n",
              "  return _uploadFilesContinue(outputId);\n",
              "}\n",
              "\n",
              "// This is roughly an async generator (not supported in the browser yet),\n",
              "// where there are multiple asynchronous steps and the Python side is going\n",
              "// to poll for completion of each step.\n",
              "// This uses a Promise to block the python side on completion of each step,\n",
              "// then passes the result of the previous step as the input to the next step.\n",
              "function _uploadFilesContinue(outputId) {\n",
              "  const outputElement = document.getElementById(outputId);\n",
              "  const steps = outputElement.steps;\n",
              "\n",
              "  const next = steps.next(outputElement.lastPromiseValue);\n",
              "  return Promise.resolve(next.value.promise).then((value) => {\n",
              "    // Cache the last promise value to make it available to the next\n",
              "    // step of the generator.\n",
              "    outputElement.lastPromiseValue = value;\n",
              "    return next.value.response;\n",
              "  });\n",
              "}\n",
              "\n",
              "/**\n",
              " * Generator function which is called between each async step of the upload\n",
              " * process.\n",
              " * @param {string} inputId Element ID of the input file picker element.\n",
              " * @param {string} outputId Element ID of the output display.\n",
              " * @return {!Iterable<!Object>} Iterable of next steps.\n",
              " */\n",
              "function* uploadFilesStep(inputId, outputId) {\n",
              "  const inputElement = document.getElementById(inputId);\n",
              "  inputElement.disabled = false;\n",
              "\n",
              "  const outputElement = document.getElementById(outputId);\n",
              "  outputElement.innerHTML = '';\n",
              "\n",
              "  const pickedPromise = new Promise((resolve) => {\n",
              "    inputElement.addEventListener('change', (e) => {\n",
              "      resolve(e.target.files);\n",
              "    });\n",
              "  });\n",
              "\n",
              "  const cancel = document.createElement('button');\n",
              "  inputElement.parentElement.appendChild(cancel);\n",
              "  cancel.textContent = 'Cancel upload';\n",
              "  const cancelPromise = new Promise((resolve) => {\n",
              "    cancel.onclick = () => {\n",
              "      resolve(null);\n",
              "    };\n",
              "  });\n",
              "\n",
              "  // Wait for the user to pick the files.\n",
              "  const files = yield {\n",
              "    promise: Promise.race([pickedPromise, cancelPromise]),\n",
              "    response: {\n",
              "      action: 'starting',\n",
              "    }\n",
              "  };\n",
              "\n",
              "  cancel.remove();\n",
              "\n",
              "  // Disable the input element since further picks are not allowed.\n",
              "  inputElement.disabled = true;\n",
              "\n",
              "  if (!files) {\n",
              "    return {\n",
              "      response: {\n",
              "        action: 'complete',\n",
              "      }\n",
              "    };\n",
              "  }\n",
              "\n",
              "  for (const file of files) {\n",
              "    const li = document.createElement('li');\n",
              "    li.append(span(file.name, {fontWeight: 'bold'}));\n",
              "    li.append(span(\n",
              "        `(${file.type || 'n/a'}) - ${file.size} bytes, ` +\n",
              "        `last modified: ${\n",
              "            file.lastModifiedDate ? file.lastModifiedDate.toLocaleDateString() :\n",
              "                                    'n/a'} - `));\n",
              "    const percent = span('0% done');\n",
              "    li.appendChild(percent);\n",
              "\n",
              "    outputElement.appendChild(li);\n",
              "\n",
              "    const fileDataPromise = new Promise((resolve) => {\n",
              "      const reader = new FileReader();\n",
              "      reader.onload = (e) => {\n",
              "        resolve(e.target.result);\n",
              "      };\n",
              "      reader.readAsArrayBuffer(file);\n",
              "    });\n",
              "    // Wait for the data to be ready.\n",
              "    let fileData = yield {\n",
              "      promise: fileDataPromise,\n",
              "      response: {\n",
              "        action: 'continue',\n",
              "      }\n",
              "    };\n",
              "\n",
              "    // Use a chunked sending to avoid message size limits. See b/62115660.\n",
              "    let position = 0;\n",
              "    do {\n",
              "      const length = Math.min(fileData.byteLength - position, MAX_PAYLOAD_SIZE);\n",
              "      const chunk = new Uint8Array(fileData, position, length);\n",
              "      position += length;\n",
              "\n",
              "      const base64 = btoa(String.fromCharCode.apply(null, chunk));\n",
              "      yield {\n",
              "        response: {\n",
              "          action: 'append',\n",
              "          file: file.name,\n",
              "          data: base64,\n",
              "        },\n",
              "      };\n",
              "\n",
              "      let percentDone = fileData.byteLength === 0 ?\n",
              "          100 :\n",
              "          Math.round((position / fileData.byteLength) * 100);\n",
              "      percent.textContent = `${percentDone}% done`;\n",
              "\n",
              "    } while (position < fileData.byteLength);\n",
              "  }\n",
              "\n",
              "  // All done.\n",
              "  yield {\n",
              "    response: {\n",
              "      action: 'complete',\n",
              "    }\n",
              "  };\n",
              "}\n",
              "\n",
              "scope.google = scope.google || {};\n",
              "scope.google.colab = scope.google.colab || {};\n",
              "scope.google.colab._files = {\n",
              "  _uploadFiles,\n",
              "  _uploadFilesContinue,\n",
              "};\n",
              "})(self);\n",
              "</script> "
            ]
          },
          "metadata": {}
        },
        {
          "output_type": "stream",
          "name": "stdout",
          "text": [
            "Saving test.txt to test.txt\n"
          ]
        }
      ]
    },
    {
      "cell_type": "code",
      "source": [
        "rdd = sc.textFile(\"test.txt\")"
      ],
      "metadata": {
        "id": "h99W26_Emfvl"
      },
      "execution_count": 8,
      "outputs": []
    },
    {
      "cell_type": "code",
      "source": [
        "rdd.take(1)"
      ],
      "metadata": {
        "colab": {
          "base_uri": "https://localhost:8080/"
        },
        "id": "Z5BP6muZmzFX",
        "outputId": "1876b458-2ad8-4591-a174-58f53263c3e5"
      },
      "execution_count": 9,
      "outputs": [
        {
          "output_type": "execute_result",
          "data": {
            "text/plain": [
              "['Project Gutenberg’s']"
            ]
          },
          "metadata": {},
          "execution_count": 9
        }
      ]
    },
    {
      "cell_type": "code",
      "source": [
        "rdd.collect()"
      ],
      "metadata": {
        "colab": {
          "base_uri": "https://localhost:8080/"
        },
        "id": "9p3bMFPInTIK",
        "outputId": "238726f4-8902-4b86-839b-32673df597c8"
      },
      "execution_count": 10,
      "outputs": [
        {
          "output_type": "execute_result",
          "data": {
            "text/plain": [
              "['Project Gutenberg’s',\n",
              " 'Alice’s Adventures in Wonderland',\n",
              " 'by Lewis Carroll',\n",
              " 'This eBook is for the use',\n",
              " 'of anyone anywhere',\n",
              " 'at no cost and with',\n",
              " 'Alice’s Adventures in Wonderland',\n",
              " 'by Lewis Carroll',\n",
              " 'This eBook is for the use',\n",
              " 'of anyone anywhere',\n",
              " 'at no cost and with',\n",
              " 'This eBook is for the use',\n",
              " 'of anyone anywhere',\n",
              " 'at no cost and with',\n",
              " 'Project Gutenberg’s',\n",
              " 'Alice’s Adventures in Wonderland',\n",
              " 'by Lewis Carroll',\n",
              " 'This eBook is for the use',\n",
              " 'of anyone anywhere',\n",
              " 'at no cost and with',\n",
              " 'Alice’s Adventures in Wonderland',\n",
              " 'by Lewis Carroll',\n",
              " 'This eBook is for the use',\n",
              " 'of anyone anywhere',\n",
              " 'at no cost and with',\n",
              " 'This eBook is for the use',\n",
              " 'of anyone anywhere',\n",
              " 'at no cost and with',\n",
              " 'Project Gutenberg’s',\n",
              " 'Alice’s Adventures in Wonderland',\n",
              " 'by Lewis Carroll',\n",
              " 'This eBook is for the use',\n",
              " 'of anyone anywhere',\n",
              " 'at no cost and with',\n",
              " 'Alice’s Adventures in Wonderland',\n",
              " 'by Lewis Carroll',\n",
              " 'This eBook is for the use',\n",
              " 'of anyone anywhere',\n",
              " 'at no cost and with',\n",
              " 'This eBook is for the use',\n",
              " 'of anyone anywhere',\n",
              " 'at no cost and with',\n",
              " 'Project Gutenberg’s',\n",
              " 'Alice’s Adventures in Wonderland',\n",
              " 'by Lewis Carroll',\n",
              " 'This eBook is for the use',\n",
              " 'of anyone anywhere',\n",
              " 'at no cost and with',\n",
              " 'Alice’s Adventures in Wonderland',\n",
              " 'by Lewis Carroll',\n",
              " 'This eBook is for the use',\n",
              " 'of anyone anywhere',\n",
              " 'at no cost and with',\n",
              " 'This eBook is for the use',\n",
              " 'of anyone anywhere',\n",
              " 'at no cost and with',\n",
              " 'Project Gutenberg’s',\n",
              " 'Alice’s Adventures in Wonderland',\n",
              " 'by Lewis Carroll',\n",
              " 'This eBook is for the use',\n",
              " 'of anyone anywhere',\n",
              " 'at no cost and with',\n",
              " 'Alice’s Adventures in Wonderland',\n",
              " 'by Lewis Carroll',\n",
              " 'This eBook is for the use',\n",
              " 'of anyone anywhere',\n",
              " 'at no cost and with',\n",
              " 'This eBook is for the use',\n",
              " 'of anyone anywhere',\n",
              " 'at no cost and with',\n",
              " 'Project Gutenberg’s',\n",
              " 'Alice’s Adventures in Wonderland',\n",
              " 'by Lewis Carroll',\n",
              " 'This eBook is for the use',\n",
              " 'of anyone anywhere',\n",
              " 'at no cost and with',\n",
              " 'Alice’s Adventures in Wonderland',\n",
              " 'by Lewis Carroll',\n",
              " 'This eBook is for the use',\n",
              " 'of anyone anywhere',\n",
              " 'at no cost and with',\n",
              " 'This eBook is for the use',\n",
              " 'of anyone anywhere',\n",
              " 'at no cost and with',\n",
              " 'Project Gutenberg’s',\n",
              " 'Alice’s Adventures in Wonderland',\n",
              " 'by Lewis Carroll',\n",
              " 'This eBook is for the use',\n",
              " 'of anyone anywhere',\n",
              " 'at no cost and with',\n",
              " 'Alice’s Adventures in Wonderland',\n",
              " 'by Lewis Carroll',\n",
              " 'This eBook is for the use',\n",
              " 'of anyone anywhere',\n",
              " 'at no cost and with',\n",
              " 'This eBook is for the use',\n",
              " 'of anyone anywhere',\n",
              " 'at no cost and with',\n",
              " 'Project Gutenberg’s',\n",
              " 'Alice’s Adventures in Wonderland',\n",
              " 'by Lewis Carroll',\n",
              " 'This eBook is for the use',\n",
              " 'of anyone anywhere',\n",
              " 'at no cost and with',\n",
              " 'Alice’s Adventures in Wonderland',\n",
              " 'by Lewis Carroll',\n",
              " 'This eBook is for the use',\n",
              " 'of anyone anywhere',\n",
              " 'at no cost and with',\n",
              " 'This eBook is for the use',\n",
              " 'of anyone anywhere',\n",
              " 'at no cost and with',\n",
              " 'Project Gutenberg’s',\n",
              " 'Alice’s Adventures in Wonderland',\n",
              " 'by Lewis Carroll',\n",
              " 'This eBook is for the use',\n",
              " 'of anyone anywhere',\n",
              " 'at no cost and with',\n",
              " 'Alice’s Adventures in Wonderland',\n",
              " 'by Lewis Carroll',\n",
              " 'This eBook is for the use',\n",
              " 'of anyone anywhere',\n",
              " 'at no cost and with',\n",
              " 'This eBook is for the use',\n",
              " 'of anyone anywhere',\n",
              " 'at no cost and with']"
            ]
          },
          "metadata": {},
          "execution_count": 10
        }
      ]
    },
    {
      "cell_type": "code",
      "source": [],
      "metadata": {
        "id": "oFyA2Wn8EmPE"
      },
      "execution_count": null,
      "outputs": []
    },
    {
      "cell_type": "code",
      "source": [
        "aba = sc.parallelize(range(1,10000,2))\n",
        "aba.persist()"
      ],
      "metadata": {
        "colab": {
          "base_uri": "https://localhost:8080/"
        },
        "id": "aLG4fn5rngNE",
        "outputId": "57443337-c0ed-482b-b8d1-9d8f9e8c0645"
      },
      "execution_count": 11,
      "outputs": [
        {
          "output_type": "execute_result",
          "data": {
            "text/plain": [
              "PythonRDD[6] at RDD at PythonRDD.scala:53"
            ]
          },
          "metadata": {},
          "execution_count": 11
        }
      ]
    },
    {
      "cell_type": "code",
      "source": [
        "textfile = sc.textFile(\"test.txt\")\n",
        "textfile.cache()"
      ],
      "metadata": {
        "colab": {
          "base_uri": "https://localhost:8080/"
        },
        "id": "Nlhl71fM18pl",
        "outputId": "aa5b996e-09a7-4068-f31f-c212a87aaaef"
      },
      "execution_count": 12,
      "outputs": [
        {
          "output_type": "execute_result",
          "data": {
            "text/plain": [
              "test.txt MapPartitionsRDD[8] at textFile at NativeMethodAccessorImpl.java:0"
            ]
          },
          "metadata": {},
          "execution_count": 12
        }
      ]
    },
    {
      "cell_type": "markdown",
      "source": [
        "Map"
      ],
      "metadata": {
        "id": "J7sCvc1gBZvS"
      }
    },
    {
      "cell_type": "code",
      "source": [
        "x = sc.parallelize([\"spark\", \"rdd\", \"example\", \"sample\", \"example\"])\n",
        "y = x.map(lambda x:(x,1))\n",
        "y.collect()"
      ],
      "metadata": {
        "colab": {
          "base_uri": "https://localhost:8080/"
        },
        "id": "qSI8wiOT4m7A",
        "outputId": "58222f29-d299-4bcb-d12c-a688a05e724f"
      },
      "execution_count": 13,
      "outputs": [
        {
          "output_type": "execute_result",
          "data": {
            "text/plain": [
              "[('spark', 1), ('rdd', 1), ('example', 1), ('sample', 1), ('example', 1)]"
            ]
          },
          "metadata": {},
          "execution_count": 13
        }
      ]
    },
    {
      "cell_type": "markdown",
      "source": [
        "FlatMap"
      ],
      "metadata": {
        "id": "e62BWEzcBlp_"
      }
    },
    {
      "cell_type": "code",
      "source": [
        "rdd = sc.parallelize([2,3,4])\n",
        "sorted(rdd.flatMap(lambda x: range(1,x)).collect())"
      ],
      "metadata": {
        "colab": {
          "base_uri": "https://localhost:8080/"
        },
        "id": "XX8iQAtGBo7P",
        "outputId": "7fa44365-5aa0-41a1-d9e3-9c3b9d36b003"
      },
      "execution_count": 14,
      "outputs": [
        {
          "output_type": "execute_result",
          "data": {
            "text/plain": [
              "[1, 1, 1, 2, 2, 3]"
            ]
          },
          "metadata": {},
          "execution_count": 14
        }
      ]
    },
    {
      "cell_type": "markdown",
      "source": [
        "Filter"
      ],
      "metadata": {
        "id": "cEYK1Xn2Dj8w"
      }
    },
    {
      "cell_type": "code",
      "source": [
        "rdd = sc.parallelize([1,2,3,4,5])\n",
        "rdd.filter(lambda x: x%2 == 0).collect()"
      ],
      "metadata": {
        "colab": {
          "base_uri": "https://localhost:8080/"
        },
        "id": "OBAKUd0RDrj1",
        "outputId": "5d35f61f-eff2-46e8-8040-b054381628da"
      },
      "execution_count": 15,
      "outputs": [
        {
          "output_type": "execute_result",
          "data": {
            "text/plain": [
              "[2, 4]"
            ]
          },
          "metadata": {},
          "execution_count": 15
        }
      ]
    },
    {
      "cell_type": "markdown",
      "source": [
        "Sample"
      ],
      "metadata": {
        "id": "TOusK3BDMHuF"
      }
    },
    {
      "cell_type": "code",
      "source": [
        "parrallel = sc.parallelize(range(9))\n",
        "parrallel.sample(True, .2).count()\n",
        "parrallel.sample(False,1).collect()"
      ],
      "metadata": {
        "colab": {
          "base_uri": "https://localhost:8080/"
        },
        "id": "RMihLIw1MJPw",
        "outputId": "d42cf9eb-d2fb-49fa-f240-e21c40d79fdb"
      },
      "execution_count": 16,
      "outputs": [
        {
          "output_type": "execute_result",
          "data": {
            "text/plain": [
              "[0, 1, 2, 3, 4, 5, 6, 7, 8]"
            ]
          },
          "metadata": {},
          "execution_count": 16
        }
      ]
    },
    {
      "cell_type": "markdown",
      "source": [
        "union"
      ],
      "metadata": {
        "id": "JE-Tde0xM-h1"
      }
    },
    {
      "cell_type": "code",
      "source": [
        "parallel = sc.parallelize(range(1,9))\n",
        "par = sc.parallelize(range(5,15))\n",
        "parallel.union(par).collect()"
      ],
      "metadata": {
        "colab": {
          "base_uri": "https://localhost:8080/"
        },
        "id": "QjjT1gyXM_yU",
        "outputId": "feb7a2a2-3ac4-4a8c-c30e-777be6df1012"
      },
      "execution_count": 17,
      "outputs": [
        {
          "output_type": "execute_result",
          "data": {
            "text/plain": [
              "[1, 2, 3, 4, 5, 6, 7, 8, 5, 6, 7, 8, 9, 10, 11, 12, 13, 14]"
            ]
          },
          "metadata": {},
          "execution_count": 17
        }
      ]
    },
    {
      "cell_type": "markdown",
      "source": [
        "intersection"
      ],
      "metadata": {
        "id": "v1F8fCx-N1N_"
      }
    },
    {
      "cell_type": "code",
      "source": [
        "parallel = sc.parallelize(range(1,9))\n",
        "par = sc.parallelize(range(5,15))\n",
        "parallel.intersection(par).collect()"
      ],
      "metadata": {
        "colab": {
          "base_uri": "https://localhost:8080/"
        },
        "id": "qVbWf--vN4pH",
        "outputId": "b4b673b5-4294-409d-e74c-8b8dd573c1c3"
      },
      "execution_count": 18,
      "outputs": [
        {
          "output_type": "execute_result",
          "data": {
            "text/plain": [
              "[6, 8, 5, 7]"
            ]
          },
          "metadata": {},
          "execution_count": 18
        }
      ]
    },
    {
      "cell_type": "markdown",
      "source": [
        "distinct"
      ],
      "metadata": {
        "id": "WQC6kRWIOZVa"
      }
    },
    {
      "cell_type": "code",
      "source": [
        "parallel = sc.parallelize(range(1,9))\n",
        "par = sc.parallelize(range(5,15))\n",
        "parallel.union(par).distinct().collect()"
      ],
      "metadata": {
        "colab": {
          "base_uri": "https://localhost:8080/"
        },
        "id": "7b9cMiN6Oa8k",
        "outputId": "2994db0f-560e-4ae0-b0cd-83b4e94c545b"
      },
      "execution_count": 19,
      "outputs": [
        {
          "output_type": "execute_result",
          "data": {
            "text/plain": [
              "[2, 4, 6, 8, 10, 12, 14, 1, 3, 5, 7, 9, 11, 13]"
            ]
          },
          "metadata": {},
          "execution_count": 19
        }
      ]
    },
    {
      "cell_type": "markdown",
      "source": [
        "sortby"
      ],
      "metadata": {
        "id": "fgG7vK-QOw2a"
      }
    },
    {
      "cell_type": "code",
      "source": [
        "y = sc.parallelize([5,7,1,3,2,1])\n",
        "y.sortBy(lambda c: c, True).collect()\n"
      ],
      "metadata": {
        "colab": {
          "base_uri": "https://localhost:8080/"
        },
        "id": "QYBpXKKXO9Ii",
        "outputId": "aebe6f43-08c1-4401-b2fb-dc3a092f4030"
      },
      "execution_count": 20,
      "outputs": [
        {
          "output_type": "execute_result",
          "data": {
            "text/plain": [
              "[1, 1, 2, 3, 5, 7]"
            ]
          },
          "metadata": {},
          "execution_count": 20
        }
      ]
    },
    {
      "cell_type": "markdown",
      "source": [
        "sortby"
      ],
      "metadata": {
        "id": "9ATN5bV4Tfav"
      }
    },
    {
      "cell_type": "code",
      "source": [
        "z = sc.parallelize([(\"H\", 10), (\"A\", 26),(\"F\", 3) ,(\"Z\", 1), (\"L\", 5)])\n",
        "z.sortBy(lambda c: c, False).collect()"
      ],
      "metadata": {
        "colab": {
          "base_uri": "https://localhost:8080/"
        },
        "id": "SS_jcHgKTgtB",
        "outputId": "cb74e881-a6fc-4f7c-b92b-c18c879738a5"
      },
      "execution_count": 21,
      "outputs": [
        {
          "output_type": "execute_result",
          "data": {
            "text/plain": [
              "[('Z', 1), ('L', 5), ('H', 10), ('F', 3), ('A', 26)]"
            ]
          },
          "metadata": {},
          "execution_count": 21
        }
      ]
    },
    {
      "cell_type": "markdown",
      "source": [
        "MapPartitions"
      ],
      "metadata": {
        "id": "HiT8CbVsTvTz"
      }
    },
    {
      "cell_type": "code",
      "source": [
        "rdd = sc.parallelize([1,2,3,4], 2)\n",
        "def f(iterator): yield sum(iterator)\n",
        "rdd.mapPartitions(f).collect()"
      ],
      "metadata": {
        "colab": {
          "base_uri": "https://localhost:8080/"
        },
        "id": "rh3I5Q8FT8Tv",
        "outputId": "9401dc80-2709-4f56-d65d-f2c411f8c582"
      },
      "execution_count": 22,
      "outputs": [
        {
          "output_type": "execute_result",
          "data": {
            "text/plain": [
              "[3, 7]"
            ]
          },
          "metadata": {},
          "execution_count": 22
        }
      ]
    },
    {
      "cell_type": "markdown",
      "source": [
        "MapPartitions - Withindex"
      ],
      "metadata": {
        "id": "2rW3GwWHVqfE"
      }
    },
    {
      "cell_type": "code",
      "source": [
        "rdd = sc.parallelize([1,2,3,4], 4)\n",
        "def f(splitIndex, Iterator): yield splitIndex\n",
        "rdd.mapPartitionsWithIndex(f).sum()\n"
      ],
      "metadata": {
        "colab": {
          "base_uri": "https://localhost:8080/"
        },
        "id": "RrpDzDZ8VzLV",
        "outputId": "67edb72b-032e-408c-efd8-c581e21febd4"
      },
      "execution_count": 23,
      "outputs": [
        {
          "output_type": "execute_result",
          "data": {
            "text/plain": [
              "6"
            ]
          },
          "metadata": {},
          "execution_count": 23
        }
      ]
    },
    {
      "cell_type": "markdown",
      "source": [
        "GroupBy"
      ],
      "metadata": {
        "id": "DkAU_tzMXALs"
      }
    },
    {
      "cell_type": "code",
      "source": [
        "rdd = sc.parallelize([1,1,2,3,5,8])\n",
        "result = rdd.groupBy(lambda x: x%2).collect()\n",
        "sorted ([(x, sorted(y)) for (x,y) in result])\n",
        "\n"
      ],
      "metadata": {
        "colab": {
          "base_uri": "https://localhost:8080/"
        },
        "id": "Q6JbxQ-nXEnt",
        "outputId": "407c152f-41c4-4011-ee0c-c00d3a003883"
      },
      "execution_count": 24,
      "outputs": [
        {
          "output_type": "execute_result",
          "data": {
            "text/plain": [
              "[(0, [2, 8]), (1, [1, 1, 3, 5])]"
            ]
          },
          "metadata": {},
          "execution_count": 24
        }
      ]
    },
    {
      "cell_type": "markdown",
      "source": [
        "keyBy"
      ],
      "metadata": {
        "id": "FAznue_yf1S7"
      }
    },
    {
      "cell_type": "code",
      "source": [
        "x = sc.parallelize(range(0,3)).keyBy(lambda x: x*x)\n",
        "y = sc.parallelize(zip(range(0,5), range(0,5)))\n",
        "[(x, list(map(list, y))) for x, y in sorted(x.cogroup(y).collect())]"
      ],
      "metadata": {
        "colab": {
          "base_uri": "https://localhost:8080/"
        },
        "id": "gvdsHCzWf3TA",
        "outputId": "6c356a94-90c7-4cc9-891f-65fa5d56d99b"
      },
      "execution_count": 25,
      "outputs": [
        {
          "output_type": "execute_result",
          "data": {
            "text/plain": [
              "[(0, [[0], [0]]),\n",
              " (1, [[1], [1]]),\n",
              " (2, [[], [2]]),\n",
              " (3, [[], [3]]),\n",
              " (4, [[2], [4]])]"
            ]
          },
          "metadata": {},
          "execution_count": 25
        }
      ]
    },
    {
      "cell_type": "markdown",
      "source": [
        "Zip"
      ],
      "metadata": {
        "id": "bjC_J7ZzhNg4"
      }
    },
    {
      "cell_type": "code",
      "source": [
        "x = sc.parallelize(range(0,5))\n",
        "y = sc.parallelize(range(1000, 1005))\n",
        "x.zip(y).collect()"
      ],
      "metadata": {
        "colab": {
          "base_uri": "https://localhost:8080/"
        },
        "id": "BejI80dBhZv3",
        "outputId": "23cbab42-4c94-4ffc-f7ae-14036eed1d50"
      },
      "execution_count": 26,
      "outputs": [
        {
          "output_type": "execute_result",
          "data": {
            "text/plain": [
              "[(0, 1000), (1, 1001), (2, 1002), (3, 1003), (4, 1004)]"
            ]
          },
          "metadata": {},
          "execution_count": 26
        }
      ]
    },
    {
      "cell_type": "markdown",
      "source": [
        "Zip - Withinindex"
      ],
      "metadata": {
        "id": "f-6O55Aqjqyc"
      }
    },
    {
      "cell_type": "code",
      "source": [
        "sc.parallelize([\"a\", \"b\", \"c\", \"d\"], 3).zipWithIndex().collect()"
      ],
      "metadata": {
        "colab": {
          "base_uri": "https://localhost:8080/"
        },
        "id": "rkZOrPQkjyLg",
        "outputId": "305e307e-329c-48b1-dd04-61ffb69ac321"
      },
      "execution_count": 27,
      "outputs": [
        {
          "output_type": "execute_result",
          "data": {
            "text/plain": [
              "[('a', 0), ('b', 1), ('c', 2), ('d', 3)]"
            ]
          },
          "metadata": {},
          "execution_count": 27
        }
      ]
    },
    {
      "cell_type": "markdown",
      "source": [],
      "metadata": {
        "id": "GRoqogkYTDfW"
      }
    }
  ]
}